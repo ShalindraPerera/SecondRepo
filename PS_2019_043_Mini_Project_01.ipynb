{
  "nbformat": 4,
  "nbformat_minor": 0,
  "metadata": {
    "colab": {
      "provenance": [],
      "authorship_tag": "ABX9TyMfy4YnWJQ2qVhzSM7ASpYT",
      "include_colab_link": true
    },
    "kernelspec": {
      "name": "python3",
      "display_name": "Python 3"
    },
    "language_info": {
      "name": "python"
    }
  },
  "cells": [
    {
      "cell_type": "markdown",
      "metadata": {
        "id": "view-in-github",
        "colab_type": "text"
      },
      "source": [
        "<a href=\"https://colab.research.google.com/github/ShalindraPerera/SecondRepo/blob/main/PS_2019_043_Mini_Project_01.ipynb\" target=\"_parent\"><img src=\"https://colab.research.google.com/assets/colab-badge.svg\" alt=\"Open In Colab\"/></a>"
      ]
    },
    {
      "cell_type": "markdown",
      "source": [
        "Import Relevant Libraries"
      ],
      "metadata": {
        "id": "NynGOS0Rt0Qk"
      }
    },
    {
      "cell_type": "code",
      "source": [
        "from tensorflow.keras.preprocessing.image import ImageDataGenerator\n",
        "from tensorflow. keras.preprocessing import image\n",
        "from tensorflow.keras.optimizers import RMSprop\n",
        "import matplotlib.pyplot as plt\n",
        "import tensorflow as tf\n",
        "import numpy as np\n",
        "import cv2\n",
        "import os"
      ],
      "metadata": {
        "id": "4FHSatyUt47x"
      },
      "execution_count": 6,
      "outputs": []
    },
    {
      "cell_type": "markdown",
      "source": [
        "Mount Google Drive"
      ],
      "metadata": {
        "id": "0XS0fzGbuq-E"
      }
    },
    {
      "cell_type": "code",
      "source": [
        "from google.colab import drive\n",
        "drive.mount ('/content/drive')"
      ],
      "metadata": {
        "colab": {
          "base_uri": "https://localhost:8080/"
        },
        "id": "jbrZCH-Guw3d",
        "outputId": "2317b752-651e-4555-b1de-171b1ca80013"
      },
      "execution_count": 7,
      "outputs": [
        {
          "output_type": "stream",
          "name": "stdout",
          "text": [
            "Drive already mounted at /content/drive; to attempt to forcibly remount, call drive.mount(\"/content/drive\", force_remount=True).\n"
          ]
        }
      ]
    },
    {
      "cell_type": "markdown",
      "source": [
        "Change The Current Working Directory"
      ],
      "metadata": {
        "id": "aYH5SfPIvjrd"
      }
    },
    {
      "cell_type": "code",
      "source": [
        "os.chdir(\"/content/drive/My Drive/Deep Learning/LetterDataSet/\")\n",
        "os .getcwd()"
      ],
      "metadata": {
        "colab": {
          "base_uri": "https://localhost:8080/",
          "height": 37
        },
        "id": "ahBlUbhcvm6M",
        "outputId": "e398ee0b-a7b5-45c7-ae9c-955caaa9b54e"
      },
      "execution_count": 8,
      "outputs": [
        {
          "output_type": "execute_result",
          "data": {
            "text/plain": [
              "'/content/drive/My Drive/Deep Learning/LetterDataSet'"
            ],
            "application/vnd.google.colaboratory.intrinsic+json": {
              "type": "string"
            }
          },
          "metadata": {},
          "execution_count": 8
        }
      ]
    },
    {
      "cell_type": "markdown",
      "source": [
        "Check Current Working Directory"
      ],
      "metadata": {
        "id": "TQFa3yfQwn4Z"
      }
    },
    {
      "cell_type": "code",
      "source": [
        "img = image. load_img(\"Training/Tha/1.jpeg\")\n",
        "plt.imshow(img)"
      ],
      "metadata": {
        "colab": {
          "base_uri": "https://localhost:8080/",
          "height": 452
        },
        "id": "LLU8sCLnwqgY",
        "outputId": "2a9a55eb-d410-402c-b47e-0ea3b2ad30b4"
      },
      "execution_count": 9,
      "outputs": [
        {
          "output_type": "execute_result",
          "data": {
            "text/plain": [
              "<matplotlib.image.AxesImage at 0x7a71d8b831f0>"
            ]
          },
          "metadata": {},
          "execution_count": 9
        },
        {
          "output_type": "display_data",
          "data": {
            "text/plain": [
              "<Figure size 640x480 with 1 Axes>"
            ],
            "image/png": "[encoded data removed]"
          },
          "metadata": {}
        }
      ]
    },
    {
      "cell_type": "markdown",
      "source": [
        "Get The Shape Of The Image"
      ],
      "metadata": {
        "id": "_gr9TK-txZ-a"
      }
    },
    {
      "cell_type": "code",
      "source": [
        "cv2. imread (\"Training/Tha/1.jpeg\").shape\n",
        "(875, 875, 3)"
      ],
      "metadata": {
        "colab": {
          "base_uri": "https://localhost:8080/"
        },
        "id": "qE0T8rSOxczT",
        "outputId": "d68f88cf-58fc-444a-8ac6-3627ab6915e7"
      },
      "execution_count": 10,
      "outputs": [
        {
          "output_type": "execute_result",
          "data": {
            "text/plain": [
              "(875, 875, 3)"
            ]
          },
          "metadata": {},
          "execution_count": 10
        }
      ]
    },
    {
      "cell_type": "markdown",
      "source": [
        "Load The Dataset"
      ],
      "metadata": {
        "id": "H53OKagWx7VP"
      }
    },
    {
      "cell_type": "code",
      "source": [
        "#Rescaling\n",
        "train = ImageDataGenerator (rescale = 1/255)"
      ],
      "metadata": {
        "id": "UvVa5jopCn8H"
      },
      "execution_count": 16,
      "outputs": []
    },
    {
      "cell_type": "code",
      "source": [
        "# Create a training dataset\n",
        "train_dataset = train.flow_from_directory('Training/',\n",
        "target_size = (200,200),\n",
        "batch_size = 3,\n",
        "class_mode = 'binary')"
      ],
      "metadata": {
        "colab": {
          "base_uri": "https://localhost:8080/"
        },
        "id": "stbIEDq-DYJY",
        "outputId": "29100be3-6cc3-4d44-a43c-8afa359bf51a"
      },
      "execution_count": 15,
      "outputs": [
        {
          "output_type": "stream",
          "name": "stdout",
          "text": [
            "Found 80 images belonging to 2 classes.\n"
          ]
        }
      ]
    },
    {
      "cell_type": "code",
      "source": [
        "#Identify classes of dataset\n",
        "train_dataset.class_indices"
      ],
      "metadata": {
        "colab": {
          "base_uri": "https://localhost:8080/"
        },
        "id": "IDraH2OnEE0n",
        "outputId": "b6e0adcf-44e5-44b9-da8b-c31e32703724"
      },
      "execution_count": 25,
      "outputs": [
        {
          "output_type": "execute_result",
          "data": {
            "text/plain": [
              "{'Tha': 0, 'Ya': 1}"
            ]
          },
          "metadata": {},
          "execution_count": 25
        }
      ]
    },
    {
      "cell_type": "markdown",
      "source": [
        "Specify The CNN Architecture"
      ],
      "metadata": {
        "id": "KU5Q3NQFERFi"
      }
    },
    {
      "cell_type": "code",
      "source": [
        "model = tf.keras.models.Sequential([tf.keras.layers.Conv2D(16,(3,3),activation='relu',input_shape = (200,200,3)),\n",
        "# MaxPooling layer with pool size (2, 2)\n",
        "tf .keras.layers.MaxPool2D(2, 2),\n",
        "# Convolutional layer with 40 filters, each of size (3, 3), and ReLU activation\n",
        "tf.keras.layers.Conv2D(40, (3,3), activation = 'relu'),\n",
        "tf.keras.layers.MaxPool2D(2,2),\n",
        "# Convolutional layer with 80 filters, each of size (3, 3), and ReLU activation\n",
        "tf.keras.layers.Conv2D(80,(3,3),activation = 'relu'),\n",
        "tf.keras.layers.MaxPool2D(2,2),\n",
        "# Flatten layer to convert 3D feature maps to 10 feature vectors\n",
        "tf.keras.layers.Flatten(),\n",
        "# Dense (fully connected) layer with 512 units and ReLU activation\n",
        "tf.keras.layers.Dense (512,activation = 'relu'),\n",
        "# Output layer with 1 unit and sigmoid activation for binary classification\n",
        "tf.keras.layers.Dense (1, activation = 'sigmoid')])"
      ],
      "metadata": {
        "id": "r0GIGX6uEYRK"
      },
      "execution_count": 24,
      "outputs": []
    },
    {
      "cell_type": "markdown",
      "source": [
        "Specifying The Training Of The Model"
      ],
      "metadata": {
        "id": "aogqh3U0IA6P"
      }
    },
    {
      "cell_type": "code",
      "source": [
        "model.compile(loss='binary_crossentropy',\n",
        "optimizer=RMSprop(learning_rate = 0.001),\n",
        "              metrics= ['accuracy'])"
      ],
      "metadata": {
        "id": "RxwRJ-69IFjn"
      },
      "execution_count": 26,
      "outputs": []
    },
    {
      "cell_type": "markdown",
      "source": [
        "Training The Model"
      ],
      "metadata": {
        "id": "hGE1kVTmIgYP"
      }
    },
    {
      "cell_type": "code",
      "source": [
        "model_fit = model.fit(train_dataset,\n",
        "steps_per_epoch = 5,\n",
        "epochs = 20)"
      ],
      "metadata": {
        "colab": {
          "base_uri": "https://localhost:8080/"
        },
        "id": "fl1HAY_CIi6M",
        "outputId": "0da83f8c-eb5c-41e6-9aa7-c46d3bd957a7"
      },
      "execution_count": 65,
      "outputs": [
        {
          "output_type": "stream",
          "name": "stdout",
          "text": [
            "Epoch 1/20\n",
            "5/5 [==============================] - 7s 1s/step - loss: 1.3451e-06 - accuracy: 1.0000\n",
            "Epoch 2/20\n",
            "5/5 [==============================] - 4s 864ms/step - loss: 4.7198e-06 - accuracy: 1.0000\n",
            "Epoch 3/20\n",
            "5/5 [==============================] - 5s 981ms/step - loss: 7.1901e-08 - accuracy: 1.0000\n",
            "Epoch 4/20\n",
            "5/5 [==============================] - 5s 990ms/step - loss: 4.4784e-06 - accuracy: 1.0000\n",
            "Epoch 5/20\n",
            "5/5 [==============================] - 5s 875ms/step - loss: 3.3693e-06 - accuracy: 1.0000\n",
            "Epoch 6/20\n",
            "5/5 [==============================] - 6s 1s/step - loss: 3.7837e-06 - accuracy: 1.0000\n",
            "Epoch 7/20\n",
            "5/5 [==============================] - 4s 863ms/step - loss: 2.4931e-06 - accuracy: 1.0000\n",
            "Epoch 8/20\n",
            "5/5 [==============================] - 6s 1s/step - loss: 5.8288e-07 - accuracy: 1.0000\n",
            "Epoch 9/20\n",
            "5/5 [==============================] - 4s 856ms/step - loss: 3.9801e-06 - accuracy: 1.0000\n",
            "Epoch 10/20\n",
            "5/5 [==============================] - 4s 858ms/step - loss: 3.8983e-06 - accuracy: 1.0000\n",
            "Epoch 11/20\n",
            "5/5 [==============================] - 6s 1s/step - loss: 2.3692e-06 - accuracy: 1.0000\n",
            "Epoch 12/20\n",
            "5/5 [==============================] - 4s 870ms/step - loss: 2.2556e-06 - accuracy: 1.0000\n",
            "Epoch 13/20\n",
            "5/5 [==============================] - 4s 850ms/step - loss: 3.6656e-06 - accuracy: 1.0000\n",
            "Epoch 14/20\n",
            "5/5 [==============================] - 6s 1s/step - loss: 2.0741e-06 - accuracy: 1.0000\n",
            "Epoch 15/20\n",
            "5/5 [==============================] - 4s 835ms/step - loss: 9.3638e-06 - accuracy: 1.0000\n",
            "Epoch 16/20\n",
            "5/5 [==============================] - 4s 851ms/step - loss: 3.2773e-06 - accuracy: 1.0000\n",
            "Epoch 17/20\n",
            "5/5 [==============================] - 6s 1s/step - loss: 3.6476e-06 - accuracy: 1.0000\n",
            "Epoch 18/20\n",
            "5/5 [==============================] - 4s 874ms/step - loss: 3.6121e-07 - accuracy: 1.0000\n",
            "Epoch 19/20\n",
            "5/5 [==============================] - 5s 960ms/step - loss: 2.3793e-06 - accuracy: 1.0000\n",
            "Epoch 20/20\n",
            "5/5 [==============================] - 6s 1s/step - loss: 2.8094e-06 - accuracy: 1.0000\n"
          ]
        }
      ]
    },
    {
      "cell_type": "markdown",
      "source": [
        "Model Evaluation"
      ],
      "metadata": {
        "id": "f5_hGLjPK8z9"
      }
    },
    {
      "cell_type": "code",
      "source": [
        "dir_path = 'Testing/'\n",
        "image_filename = '4.jpeg'\n",
        "# Load the image\n",
        "img = image.load_img(dir_path + image_filename, target_size=(200, 200))\n",
        "# Display the image\n",
        "plt.imshow (img)\n",
        "plt.show()\n",
        "# Convert the image to a NumPy array and add an extra dimension\n",
        "X = image.img_to_array(img)\n",
        "X = np.expand_dims(X, axis=0)\n",
        "# Make a prediction using the trained model\n",
        "val = model.predict (X)\n",
        "if val == 0:\n",
        "   print(\"This is Letter 'ත' in sinhala\")\n",
        "else:\n",
        "   print(\"This is Letter 'ය' in sinhala\")"
      ],
      "metadata": {
        "colab": {
          "base_uri": "https://localhost:8080/",
          "height": 468
        },
        "id": "4hAyIoDiLASH",
        "outputId": "a3614cd8-9e38-49d2-8674-b6d0cd9458b3"
      },
      "execution_count": 69,
      "outputs": [
        {
          "output_type": "display_data",
          "data": {
            "text/plain": [
              "<Figure size 640x480 with 1 Axes>"
            ],
            "image/png": "[encoded data removed]"
          },
          "metadata": {}
        },
        {
          "output_type": "stream",
          "name": "stdout",
          "text": [
            "1/1 [==============================] - 0s 49ms/step\n",
            "This is Letter 'ත' in sinhala\n"
          ]
        }
      ]
    }
  ]
}